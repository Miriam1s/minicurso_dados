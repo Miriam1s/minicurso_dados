{
 "cells": [
  {
   "cell_type": "code",
   "execution_count": 5,
   "id": "29aa32fc",
   "metadata": {},
   "outputs": [
    {
     "name": "stdout",
     "output_type": "stream",
     "text": [
      "Clientes:\n"
     ]
    },
    {
     "data": {
      "application/vnd.microsoft.datawrangler.viewer.v0+json": {
       "columns": [
        {
         "name": "index",
         "rawType": "int64",
         "type": "integer"
        },
        {
         "name": "cliente_id",
         "rawType": "int64",
         "type": "integer"
        },
        {
         "name": "nome",
         "rawType": "object",
         "type": "string"
        },
        {
         "name": "idade",
         "rawType": "int64",
         "type": "integer"
        },
        {
         "name": "cidade",
         "rawType": "object",
         "type": "string"
        }
       ],
       "ref": "72be1dc9-77b7-49f0-bd8d-37f7cc43d833",
       "rows": [
        [
         "0",
         "1",
         "João",
         "34",
         "Picos"
        ],
        [
         "1",
         "2",
         "Maria",
         "28",
         "Picos"
        ],
        [
         "2",
         "3",
         "Carlos",
         "45",
         "Picos"
        ],
        [
         "3",
         "4",
         "Ana",
         "22",
         "Picos"
        ],
        [
         "4",
         "5",
         "Pedro",
         "39",
         "Picos"
        ]
       ],
       "shape": {
        "columns": 4,
        "rows": 5
       }
      },
      "text/html": [
       "<div>\n",
       "<style scoped>\n",
       "    .dataframe tbody tr th:only-of-type {\n",
       "        vertical-align: middle;\n",
       "    }\n",
       "\n",
       "    .dataframe tbody tr th {\n",
       "        vertical-align: top;\n",
       "    }\n",
       "\n",
       "    .dataframe thead th {\n",
       "        text-align: right;\n",
       "    }\n",
       "</style>\n",
       "<table border=\"1\" class=\"dataframe\">\n",
       "  <thead>\n",
       "    <tr style=\"text-align: right;\">\n",
       "      <th></th>\n",
       "      <th>cliente_id</th>\n",
       "      <th>nome</th>\n",
       "      <th>idade</th>\n",
       "      <th>cidade</th>\n",
       "    </tr>\n",
       "  </thead>\n",
       "  <tbody>\n",
       "    <tr>\n",
       "      <th>0</th>\n",
       "      <td>1</td>\n",
       "      <td>João</td>\n",
       "      <td>34</td>\n",
       "      <td>Picos</td>\n",
       "    </tr>\n",
       "    <tr>\n",
       "      <th>1</th>\n",
       "      <td>2</td>\n",
       "      <td>Maria</td>\n",
       "      <td>28</td>\n",
       "      <td>Picos</td>\n",
       "    </tr>\n",
       "    <tr>\n",
       "      <th>2</th>\n",
       "      <td>3</td>\n",
       "      <td>Carlos</td>\n",
       "      <td>45</td>\n",
       "      <td>Picos</td>\n",
       "    </tr>\n",
       "    <tr>\n",
       "      <th>3</th>\n",
       "      <td>4</td>\n",
       "      <td>Ana</td>\n",
       "      <td>22</td>\n",
       "      <td>Picos</td>\n",
       "    </tr>\n",
       "    <tr>\n",
       "      <th>4</th>\n",
       "      <td>5</td>\n",
       "      <td>Pedro</td>\n",
       "      <td>39</td>\n",
       "      <td>Picos</td>\n",
       "    </tr>\n",
       "  </tbody>\n",
       "</table>\n",
       "</div>"
      ],
      "text/plain": [
       "   cliente_id    nome  idade cidade\n",
       "0           1    João     34  Picos\n",
       "1           2   Maria     28  Picos\n",
       "2           3  Carlos     45  Picos\n",
       "3           4     Ana     22  Picos\n",
       "4           5   Pedro     39  Picos"
      ]
     },
     "metadata": {},
     "output_type": "display_data"
    },
    {
     "name": "stdout",
     "output_type": "stream",
     "text": [
      "Vendas:\n"
     ]
    },
    {
     "data": {
      "application/vnd.microsoft.datawrangler.viewer.v0+json": {
       "columns": [
        {
         "name": "index",
         "rawType": "int64",
         "type": "integer"
        },
        {
         "name": "venda_id",
         "rawType": "int64",
         "type": "integer"
        },
        {
         "name": "cliente_id",
         "rawType": "int64",
         "type": "integer"
        },
        {
         "name": "produto",
         "rawType": "object",
         "type": "string"
        },
        {
         "name": "quantidade",
         "rawType": "int64",
         "type": "integer"
        },
        {
         "name": "preco_unitario",
         "rawType": "float64",
         "type": "float"
        },
        {
         "name": "data",
         "rawType": "object",
         "type": "string"
        }
       ],
       "ref": "050fb07b-dc66-4377-83ae-f3fa44a1234e",
       "rows": [
        [
         "0",
         "1001",
         "1",
         "Hamburguer",
         "2",
         "15.0",
         "2016-01-05"
        ],
        [
         "1",
         "1002",
         "2",
         "Refrigerante",
         "1",
         "6.0",
         "2016-01-05"
        ],
        [
         "2",
         "1003",
         "3",
         "Batata Frita",
         "3",
         "8.0",
         "2016-01-06"
        ],
        [
         "3",
         "1004",
         "4",
         "Suco",
         "1",
         "7.0",
         "2017-02-10"
        ],
        [
         "4",
         "1005",
         "5",
         "Salada",
         "2",
         "10.0",
         "2017-02-10"
        ]
       ],
       "shape": {
        "columns": 6,
        "rows": 5
       }
      },
      "text/html": [
       "<div>\n",
       "<style scoped>\n",
       "    .dataframe tbody tr th:only-of-type {\n",
       "        vertical-align: middle;\n",
       "    }\n",
       "\n",
       "    .dataframe tbody tr th {\n",
       "        vertical-align: top;\n",
       "    }\n",
       "\n",
       "    .dataframe thead th {\n",
       "        text-align: right;\n",
       "    }\n",
       "</style>\n",
       "<table border=\"1\" class=\"dataframe\">\n",
       "  <thead>\n",
       "    <tr style=\"text-align: right;\">\n",
       "      <th></th>\n",
       "      <th>venda_id</th>\n",
       "      <th>cliente_id</th>\n",
       "      <th>produto</th>\n",
       "      <th>quantidade</th>\n",
       "      <th>preco_unitario</th>\n",
       "      <th>data</th>\n",
       "    </tr>\n",
       "  </thead>\n",
       "  <tbody>\n",
       "    <tr>\n",
       "      <th>0</th>\n",
       "      <td>1001</td>\n",
       "      <td>1</td>\n",
       "      <td>Hamburguer</td>\n",
       "      <td>2</td>\n",
       "      <td>15.0</td>\n",
       "      <td>2016-01-05</td>\n",
       "    </tr>\n",
       "    <tr>\n",
       "      <th>1</th>\n",
       "      <td>1002</td>\n",
       "      <td>2</td>\n",
       "      <td>Refrigerante</td>\n",
       "      <td>1</td>\n",
       "      <td>6.0</td>\n",
       "      <td>2016-01-05</td>\n",
       "    </tr>\n",
       "    <tr>\n",
       "      <th>2</th>\n",
       "      <td>1003</td>\n",
       "      <td>3</td>\n",
       "      <td>Batata Frita</td>\n",
       "      <td>3</td>\n",
       "      <td>8.0</td>\n",
       "      <td>2016-01-06</td>\n",
       "    </tr>\n",
       "    <tr>\n",
       "      <th>3</th>\n",
       "      <td>1004</td>\n",
       "      <td>4</td>\n",
       "      <td>Suco</td>\n",
       "      <td>1</td>\n",
       "      <td>7.0</td>\n",
       "      <td>2017-02-10</td>\n",
       "    </tr>\n",
       "    <tr>\n",
       "      <th>4</th>\n",
       "      <td>1005</td>\n",
       "      <td>5</td>\n",
       "      <td>Salada</td>\n",
       "      <td>2</td>\n",
       "      <td>10.0</td>\n",
       "      <td>2017-02-10</td>\n",
       "    </tr>\n",
       "  </tbody>\n",
       "</table>\n",
       "</div>"
      ],
      "text/plain": [
       "   venda_id  cliente_id       produto  quantidade  preco_unitario        data\n",
       "0      1001           1    Hamburguer           2            15.0  2016-01-05\n",
       "1      1002           2  Refrigerante           1             6.0  2016-01-05\n",
       "2      1003           3  Batata Frita           3             8.0  2016-01-06\n",
       "3      1004           4          Suco           1             7.0  2017-02-10\n",
       "4      1005           5        Salada           2            10.0  2017-02-10"
      ]
     },
     "metadata": {},
     "output_type": "display_data"
    },
    {
     "name": "stdout",
     "output_type": "stream",
     "text": [
      "Produtos:\n"
     ]
    },
    {
     "data": {
      "application/vnd.microsoft.datawrangler.viewer.v0+json": {
       "columns": [
        {
         "name": "index",
         "rawType": "int64",
         "type": "integer"
        },
        {
         "name": "produto",
         "rawType": "object",
         "type": "string"
        },
        {
         "name": "categoria",
         "rawType": "object",
         "type": "string"
        },
        {
         "name": "custo_unitario",
         "rawType": "float64",
         "type": "float"
        }
       ],
       "ref": "f9581892-1e70-4116-a827-bf729302b3fc",
       "rows": [
        [
         "0",
         "Hamburguer",
         "Lanche",
         "7.0"
        ],
        [
         "1",
         "Refrigerante",
         "Bebida",
         "2.5"
        ],
        [
         "2",
         "Batata Frita",
         "Acompanhamento",
         "3.0"
        ],
        [
         "3",
         "Suco",
         "Bebida",
         "3.5"
        ],
        [
         "4",
         "Salada",
         "Saudável",
         "4.0"
        ]
       ],
       "shape": {
        "columns": 3,
        "rows": 5
       }
      },
      "text/html": [
       "<div>\n",
       "<style scoped>\n",
       "    .dataframe tbody tr th:only-of-type {\n",
       "        vertical-align: middle;\n",
       "    }\n",
       "\n",
       "    .dataframe tbody tr th {\n",
       "        vertical-align: top;\n",
       "    }\n",
       "\n",
       "    .dataframe thead th {\n",
       "        text-align: right;\n",
       "    }\n",
       "</style>\n",
       "<table border=\"1\" class=\"dataframe\">\n",
       "  <thead>\n",
       "    <tr style=\"text-align: right;\">\n",
       "      <th></th>\n",
       "      <th>produto</th>\n",
       "      <th>categoria</th>\n",
       "      <th>custo_unitario</th>\n",
       "    </tr>\n",
       "  </thead>\n",
       "  <tbody>\n",
       "    <tr>\n",
       "      <th>0</th>\n",
       "      <td>Hamburguer</td>\n",
       "      <td>Lanche</td>\n",
       "      <td>7.0</td>\n",
       "    </tr>\n",
       "    <tr>\n",
       "      <th>1</th>\n",
       "      <td>Refrigerante</td>\n",
       "      <td>Bebida</td>\n",
       "      <td>2.5</td>\n",
       "    </tr>\n",
       "    <tr>\n",
       "      <th>2</th>\n",
       "      <td>Batata Frita</td>\n",
       "      <td>Acompanhamento</td>\n",
       "      <td>3.0</td>\n",
       "    </tr>\n",
       "    <tr>\n",
       "      <th>3</th>\n",
       "      <td>Suco</td>\n",
       "      <td>Bebida</td>\n",
       "      <td>3.5</td>\n",
       "    </tr>\n",
       "    <tr>\n",
       "      <th>4</th>\n",
       "      <td>Salada</td>\n",
       "      <td>Saudável</td>\n",
       "      <td>4.0</td>\n",
       "    </tr>\n",
       "  </tbody>\n",
       "</table>\n",
       "</div>"
      ],
      "text/plain": [
       "        produto       categoria  custo_unitario\n",
       "0    Hamburguer          Lanche             7.0\n",
       "1  Refrigerante          Bebida             2.5\n",
       "2  Batata Frita  Acompanhamento             3.0\n",
       "3          Suco          Bebida             3.5\n",
       "4        Salada        Saudável             4.0"
      ]
     },
     "metadata": {},
     "output_type": "display_data"
    },
    {
     "name": "stdout",
     "output_type": "stream",
     "text": [
      "Despesas:\n"
     ]
    },
    {
     "data": {
      "application/vnd.microsoft.datawrangler.viewer.v0+json": {
       "columns": [
        {
         "name": "index",
         "rawType": "int64",
         "type": "integer"
        },
        {
         "name": "data",
         "rawType": "object",
         "type": "string"
        },
        {
         "name": "despesa_tipo",
         "rawType": "object",
         "type": "string"
        },
        {
         "name": "valor",
         "rawType": "float64",
         "type": "float"
        }
       ],
       "ref": "f7d962a3-9849-4dcd-abe3-e0bc65cb7ae5",
       "rows": [
        [
         "0",
         "2016-01-01",
         "Aluguel",
         "900.0"
        ],
        [
         "1",
         "2016-01-01",
         "Salário",
         "1800.0"
        ],
        [
         "2",
         "2016-01-01",
         "Insumos",
         "400.0"
        ],
        [
         "3",
         "2016-01-01",
         "Marketing",
         "200.0"
        ],
        [
         "4",
         "2016-02-01",
         "Aluguel",
         "900.0"
        ]
       ],
       "shape": {
        "columns": 3,
        "rows": 5
       }
      },
      "text/html": [
       "<div>\n",
       "<style scoped>\n",
       "    .dataframe tbody tr th:only-of-type {\n",
       "        vertical-align: middle;\n",
       "    }\n",
       "\n",
       "    .dataframe tbody tr th {\n",
       "        vertical-align: top;\n",
       "    }\n",
       "\n",
       "    .dataframe thead th {\n",
       "        text-align: right;\n",
       "    }\n",
       "</style>\n",
       "<table border=\"1\" class=\"dataframe\">\n",
       "  <thead>\n",
       "    <tr style=\"text-align: right;\">\n",
       "      <th></th>\n",
       "      <th>data</th>\n",
       "      <th>despesa_tipo</th>\n",
       "      <th>valor</th>\n",
       "    </tr>\n",
       "  </thead>\n",
       "  <tbody>\n",
       "    <tr>\n",
       "      <th>0</th>\n",
       "      <td>2016-01-01</td>\n",
       "      <td>Aluguel</td>\n",
       "      <td>900.0</td>\n",
       "    </tr>\n",
       "    <tr>\n",
       "      <th>1</th>\n",
       "      <td>2016-01-01</td>\n",
       "      <td>Salário</td>\n",
       "      <td>1800.0</td>\n",
       "    </tr>\n",
       "    <tr>\n",
       "      <th>2</th>\n",
       "      <td>2016-01-01</td>\n",
       "      <td>Insumos</td>\n",
       "      <td>400.0</td>\n",
       "    </tr>\n",
       "    <tr>\n",
       "      <th>3</th>\n",
       "      <td>2016-01-01</td>\n",
       "      <td>Marketing</td>\n",
       "      <td>200.0</td>\n",
       "    </tr>\n",
       "    <tr>\n",
       "      <th>4</th>\n",
       "      <td>2016-02-01</td>\n",
       "      <td>Aluguel</td>\n",
       "      <td>900.0</td>\n",
       "    </tr>\n",
       "  </tbody>\n",
       "</table>\n",
       "</div>"
      ],
      "text/plain": [
       "         data despesa_tipo   valor\n",
       "0  2016-01-01      Aluguel   900.0\n",
       "1  2016-01-01      Salário  1800.0\n",
       "2  2016-01-01      Insumos   400.0\n",
       "3  2016-01-01    Marketing   200.0\n",
       "4  2016-02-01      Aluguel   900.0"
      ]
     },
     "metadata": {},
     "output_type": "display_data"
    },
    {
     "name": "stdout",
     "output_type": "stream",
     "text": [
      "Faturamento Diário:\n"
     ]
    },
    {
     "data": {
      "application/vnd.microsoft.datawrangler.viewer.v0+json": {
       "columns": [
        {
         "name": "index",
         "rawType": "int64",
         "type": "integer"
        },
        {
         "name": "data",
         "rawType": "object",
         "type": "string"
        },
        {
         "name": "receita",
         "rawType": "float64",
         "type": "float"
        }
       ],
       "ref": "ddeba5ce-5164-4486-b4ce-f55c7545115c",
       "rows": [
        [
         "0",
         "2016-01-05",
         "40.0"
        ],
        [
         "1",
         "2016-01-06",
         "45.0"
        ],
        [
         "2",
         "2017-02-10",
         "50.0"
        ],
        [
         "3",
         "2017-02-11",
         "55.0"
        ],
        [
         "4",
         "2018-03-15",
         "60.0"
        ]
       ],
       "shape": {
        "columns": 2,
        "rows": 5
       }
      },
      "text/html": [
       "<div>\n",
       "<style scoped>\n",
       "    .dataframe tbody tr th:only-of-type {\n",
       "        vertical-align: middle;\n",
       "    }\n",
       "\n",
       "    .dataframe tbody tr th {\n",
       "        vertical-align: top;\n",
       "    }\n",
       "\n",
       "    .dataframe thead th {\n",
       "        text-align: right;\n",
       "    }\n",
       "</style>\n",
       "<table border=\"1\" class=\"dataframe\">\n",
       "  <thead>\n",
       "    <tr style=\"text-align: right;\">\n",
       "      <th></th>\n",
       "      <th>data</th>\n",
       "      <th>receita</th>\n",
       "    </tr>\n",
       "  </thead>\n",
       "  <tbody>\n",
       "    <tr>\n",
       "      <th>0</th>\n",
       "      <td>2016-01-05</td>\n",
       "      <td>40.0</td>\n",
       "    </tr>\n",
       "    <tr>\n",
       "      <th>1</th>\n",
       "      <td>2016-01-06</td>\n",
       "      <td>45.0</td>\n",
       "    </tr>\n",
       "    <tr>\n",
       "      <th>2</th>\n",
       "      <td>2017-02-10</td>\n",
       "      <td>50.0</td>\n",
       "    </tr>\n",
       "    <tr>\n",
       "      <th>3</th>\n",
       "      <td>2017-02-11</td>\n",
       "      <td>55.0</td>\n",
       "    </tr>\n",
       "    <tr>\n",
       "      <th>4</th>\n",
       "      <td>2018-03-15</td>\n",
       "      <td>60.0</td>\n",
       "    </tr>\n",
       "  </tbody>\n",
       "</table>\n",
       "</div>"
      ],
      "text/plain": [
       "         data  receita\n",
       "0  2016-01-05     40.0\n",
       "1  2016-01-06     45.0\n",
       "2  2017-02-10     50.0\n",
       "3  2017-02-11     55.0\n",
       "4  2018-03-15     60.0"
      ]
     },
     "metadata": {},
     "output_type": "display_data"
    },
    {
     "name": "stdout",
     "output_type": "stream",
     "text": [
      "Vendas por dia:\n"
     ]
    },
    {
     "data": {
      "application/vnd.microsoft.datawrangler.viewer.v0+json": {
       "columns": [
        {
         "name": "data",
         "rawType": "datetime64[ns]",
         "type": "datetime"
        },
        {
         "name": "quantidade",
         "rawType": "int64",
         "type": "integer"
        },
        {
         "name": "preco_unitario",
         "rawType": "float64",
         "type": "float"
        }
       ],
       "ref": "fb706a32-fd80-4e63-8760-cf0387eaec33",
       "rows": [
        [
         "2016-01-05 00:00:00",
         "3",
         "21.0"
        ],
        [
         "2016-01-06 00:00:00",
         "3",
         "8.0"
        ],
        [
         "2017-02-10 00:00:00",
         "3",
         "17.0"
        ],
        [
         "2018-03-15 00:00:00",
         "1",
         "20.0"
        ],
        [
         "2018-03-16 00:00:00",
         "2",
         "5.0"
        ],
        [
         "2019-04-20 00:00:00",
         "1",
         "12.0"
        ],
        [
         "2019-04-21 00:00:00",
         "2",
         "13.0"
        ],
        [
         "2020-05-25 00:00:00",
         "1",
         "9.0"
        ],
        [
         "2020-05-26 00:00:00",
         "2",
         "15.0"
        ],
        [
         "2021-06-30 00:00:00",
         "1",
         "6.0"
        ],
        [
         "2021-07-01 00:00:00",
         "3",
         "8.0"
        ],
        [
         "2022-07-05 00:00:00",
         "1",
         "7.0"
        ],
        [
         "2022-07-06 00:00:00",
         "2",
         "10.0"
        ],
        [
         "2023-08-10 00:00:00",
         "1",
         "20.0"
        ],
        [
         "2023-08-11 00:00:00",
         "2",
         "5.0"
        ],
        [
         "2024-09-15 00:00:00",
         "1",
         "12.0"
        ],
        [
         "2024-09-16 00:00:00",
         "2",
         "13.0"
        ],
        [
         "2025-08-01 00:00:00",
         "1",
         "9.0"
        ],
        [
         "2025-08-02 00:00:00",
         "3",
         "21.0"
        ]
       ],
       "shape": {
        "columns": 2,
        "rows": 19
       }
      },
      "text/html": [
       "<div>\n",
       "<style scoped>\n",
       "    .dataframe tbody tr th:only-of-type {\n",
       "        vertical-align: middle;\n",
       "    }\n",
       "\n",
       "    .dataframe tbody tr th {\n",
       "        vertical-align: top;\n",
       "    }\n",
       "\n",
       "    .dataframe thead th {\n",
       "        text-align: right;\n",
       "    }\n",
       "</style>\n",
       "<table border=\"1\" class=\"dataframe\">\n",
       "  <thead>\n",
       "    <tr style=\"text-align: right;\">\n",
       "      <th></th>\n",
       "      <th>quantidade</th>\n",
       "      <th>preco_unitario</th>\n",
       "    </tr>\n",
       "    <tr>\n",
       "      <th>data</th>\n",
       "      <th></th>\n",
       "      <th></th>\n",
       "    </tr>\n",
       "  </thead>\n",
       "  <tbody>\n",
       "    <tr>\n",
       "      <th>2016-01-05</th>\n",
       "      <td>3</td>\n",
       "      <td>21.0</td>\n",
       "    </tr>\n",
       "    <tr>\n",
       "      <th>2016-01-06</th>\n",
       "      <td>3</td>\n",
       "      <td>8.0</td>\n",
       "    </tr>\n",
       "    <tr>\n",
       "      <th>2017-02-10</th>\n",
       "      <td>3</td>\n",
       "      <td>17.0</td>\n",
       "    </tr>\n",
       "    <tr>\n",
       "      <th>2018-03-15</th>\n",
       "      <td>1</td>\n",
       "      <td>20.0</td>\n",
       "    </tr>\n",
       "    <tr>\n",
       "      <th>2018-03-16</th>\n",
       "      <td>2</td>\n",
       "      <td>5.0</td>\n",
       "    </tr>\n",
       "    <tr>\n",
       "      <th>2019-04-20</th>\n",
       "      <td>1</td>\n",
       "      <td>12.0</td>\n",
       "    </tr>\n",
       "    <tr>\n",
       "      <th>2019-04-21</th>\n",
       "      <td>2</td>\n",
       "      <td>13.0</td>\n",
       "    </tr>\n",
       "    <tr>\n",
       "      <th>2020-05-25</th>\n",
       "      <td>1</td>\n",
       "      <td>9.0</td>\n",
       "    </tr>\n",
       "    <tr>\n",
       "      <th>2020-05-26</th>\n",
       "      <td>2</td>\n",
       "      <td>15.0</td>\n",
       "    </tr>\n",
       "    <tr>\n",
       "      <th>2021-06-30</th>\n",
       "      <td>1</td>\n",
       "      <td>6.0</td>\n",
       "    </tr>\n",
       "    <tr>\n",
       "      <th>2021-07-01</th>\n",
       "      <td>3</td>\n",
       "      <td>8.0</td>\n",
       "    </tr>\n",
       "    <tr>\n",
       "      <th>2022-07-05</th>\n",
       "      <td>1</td>\n",
       "      <td>7.0</td>\n",
       "    </tr>\n",
       "    <tr>\n",
       "      <th>2022-07-06</th>\n",
       "      <td>2</td>\n",
       "      <td>10.0</td>\n",
       "    </tr>\n",
       "    <tr>\n",
       "      <th>2023-08-10</th>\n",
       "      <td>1</td>\n",
       "      <td>20.0</td>\n",
       "    </tr>\n",
       "    <tr>\n",
       "      <th>2023-08-11</th>\n",
       "      <td>2</td>\n",
       "      <td>5.0</td>\n",
       "    </tr>\n",
       "    <tr>\n",
       "      <th>2024-09-15</th>\n",
       "      <td>1</td>\n",
       "      <td>12.0</td>\n",
       "    </tr>\n",
       "    <tr>\n",
       "      <th>2024-09-16</th>\n",
       "      <td>2</td>\n",
       "      <td>13.0</td>\n",
       "    </tr>\n",
       "    <tr>\n",
       "      <th>2025-08-01</th>\n",
       "      <td>1</td>\n",
       "      <td>9.0</td>\n",
       "    </tr>\n",
       "    <tr>\n",
       "      <th>2025-08-02</th>\n",
       "      <td>3</td>\n",
       "      <td>21.0</td>\n",
       "    </tr>\n",
       "  </tbody>\n",
       "</table>\n",
       "</div>"
      ],
      "text/plain": [
       "            quantidade  preco_unitario\n",
       "data                                  \n",
       "2016-01-05           3            21.0\n",
       "2016-01-06           3             8.0\n",
       "2017-02-10           3            17.0\n",
       "2018-03-15           1            20.0\n",
       "2018-03-16           2             5.0\n",
       "2019-04-20           1            12.0\n",
       "2019-04-21           2            13.0\n",
       "2020-05-25           1             9.0\n",
       "2020-05-26           2            15.0\n",
       "2021-06-30           1             6.0\n",
       "2021-07-01           3             8.0\n",
       "2022-07-05           1             7.0\n",
       "2022-07-06           2            10.0\n",
       "2023-08-10           1            20.0\n",
       "2023-08-11           2             5.0\n",
       "2024-09-15           1            12.0\n",
       "2024-09-16           2            13.0\n",
       "2025-08-01           1             9.0\n",
       "2025-08-02           3            21.0"
      ]
     },
     "metadata": {},
     "output_type": "display_data"
    },
    {
     "name": "stdout",
     "output_type": "stream",
     "text": [
      "Vendas por semana:\n"
     ]
    },
    {
     "data": {
      "application/vnd.microsoft.datawrangler.viewer.v0+json": {
       "columns": [
        {
         "name": "('ano', 'semana')",
         "rawType": "object",
         "type": "unknown"
        },
        {
         "name": "quantidade",
         "rawType": "int64",
         "type": "integer"
        }
       ],
       "ref": "fa3f9991-170c-4a94-99fe-4d08d59a47e4",
       "rows": [
        [
         "(np.int32(2016), np.uint32(1))",
         "6"
        ],
        [
         "(np.int32(2017), np.uint32(6))",
         "3"
        ],
        [
         "(np.int32(2018), np.uint32(11))",
         "3"
        ],
        [
         "(np.int32(2019), np.uint32(16))",
         "3"
        ],
        [
         "(np.int32(2020), np.uint32(22))",
         "3"
        ],
        [
         "(np.int32(2021), np.uint32(26))",
         "4"
        ],
        [
         "(np.int32(2022), np.uint32(27))",
         "3"
        ],
        [
         "(np.int32(2023), np.uint32(32))",
         "3"
        ],
        [
         "(np.int32(2024), np.uint32(37))",
         "1"
        ],
        [
         "(np.int32(2024), np.uint32(38))",
         "2"
        ],
        [
         "(np.int32(2025), np.uint32(31))",
         "4"
        ]
       ],
       "shape": {
        "columns": 1,
        "rows": 11
       }
      },
      "text/html": [
       "<div>\n",
       "<style scoped>\n",
       "    .dataframe tbody tr th:only-of-type {\n",
       "        vertical-align: middle;\n",
       "    }\n",
       "\n",
       "    .dataframe tbody tr th {\n",
       "        vertical-align: top;\n",
       "    }\n",
       "\n",
       "    .dataframe thead th {\n",
       "        text-align: right;\n",
       "    }\n",
       "</style>\n",
       "<table border=\"1\" class=\"dataframe\">\n",
       "  <thead>\n",
       "    <tr style=\"text-align: right;\">\n",
       "      <th></th>\n",
       "      <th></th>\n",
       "      <th>quantidade</th>\n",
       "    </tr>\n",
       "    <tr>\n",
       "      <th>ano</th>\n",
       "      <th>semana</th>\n",
       "      <th></th>\n",
       "    </tr>\n",
       "  </thead>\n",
       "  <tbody>\n",
       "    <tr>\n",
       "      <th>2016</th>\n",
       "      <th>1</th>\n",
       "      <td>6</td>\n",
       "    </tr>\n",
       "    <tr>\n",
       "      <th>2017</th>\n",
       "      <th>6</th>\n",
       "      <td>3</td>\n",
       "    </tr>\n",
       "    <tr>\n",
       "      <th>2018</th>\n",
       "      <th>11</th>\n",
       "      <td>3</td>\n",
       "    </tr>\n",
       "    <tr>\n",
       "      <th>2019</th>\n",
       "      <th>16</th>\n",
       "      <td>3</td>\n",
       "    </tr>\n",
       "    <tr>\n",
       "      <th>2020</th>\n",
       "      <th>22</th>\n",
       "      <td>3</td>\n",
       "    </tr>\n",
       "    <tr>\n",
       "      <th>2021</th>\n",
       "      <th>26</th>\n",
       "      <td>4</td>\n",
       "    </tr>\n",
       "    <tr>\n",
       "      <th>2022</th>\n",
       "      <th>27</th>\n",
       "      <td>3</td>\n",
       "    </tr>\n",
       "    <tr>\n",
       "      <th>2023</th>\n",
       "      <th>32</th>\n",
       "      <td>3</td>\n",
       "    </tr>\n",
       "    <tr>\n",
       "      <th rowspan=\"2\" valign=\"top\">2024</th>\n",
       "      <th>37</th>\n",
       "      <td>1</td>\n",
       "    </tr>\n",
       "    <tr>\n",
       "      <th>38</th>\n",
       "      <td>2</td>\n",
       "    </tr>\n",
       "    <tr>\n",
       "      <th>2025</th>\n",
       "      <th>31</th>\n",
       "      <td>4</td>\n",
       "    </tr>\n",
       "  </tbody>\n",
       "</table>\n",
       "</div>"
      ],
      "text/plain": [
       "             quantidade\n",
       "ano  semana            \n",
       "2016 1                6\n",
       "2017 6                3\n",
       "2018 11               3\n",
       "2019 16               3\n",
       "2020 22               3\n",
       "2021 26               4\n",
       "2022 27               3\n",
       "2023 32               3\n",
       "2024 37               1\n",
       "     38               2\n",
       "2025 31               4"
      ]
     },
     "metadata": {},
     "output_type": "display_data"
    },
    {
     "name": "stdout",
     "output_type": "stream",
     "text": [
      "Vendas por mês:\n"
     ]
    },
    {
     "data": {
      "application/vnd.microsoft.datawrangler.viewer.v0+json": {
       "columns": [
        {
         "name": "('ano', 'mes')",
         "rawType": "object",
         "type": "unknown"
        },
        {
         "name": "quantidade",
         "rawType": "int64",
         "type": "integer"
        }
       ],
       "ref": "47d03945-9b7d-4321-9b53-d3c612701633",
       "rows": [
        [
         "(np.int32(2016), np.int32(1))",
         "6"
        ],
        [
         "(np.int32(2017), np.int32(2))",
         "3"
        ],
        [
         "(np.int32(2018), np.int32(3))",
         "3"
        ],
        [
         "(np.int32(2019), np.int32(4))",
         "3"
        ],
        [
         "(np.int32(2020), np.int32(5))",
         "3"
        ],
        [
         "(np.int32(2021), np.int32(6))",
         "1"
        ],
        [
         "(np.int32(2021), np.int32(7))",
         "3"
        ],
        [
         "(np.int32(2022), np.int32(7))",
         "3"
        ],
        [
         "(np.int32(2023), np.int32(8))",
         "3"
        ],
        [
         "(np.int32(2024), np.int32(9))",
         "3"
        ],
        [
         "(np.int32(2025), np.int32(8))",
         "4"
        ]
       ],
       "shape": {
        "columns": 1,
        "rows": 11
       }
      },
      "text/html": [
       "<div>\n",
       "<style scoped>\n",
       "    .dataframe tbody tr th:only-of-type {\n",
       "        vertical-align: middle;\n",
       "    }\n",
       "\n",
       "    .dataframe tbody tr th {\n",
       "        vertical-align: top;\n",
       "    }\n",
       "\n",
       "    .dataframe thead th {\n",
       "        text-align: right;\n",
       "    }\n",
       "</style>\n",
       "<table border=\"1\" class=\"dataframe\">\n",
       "  <thead>\n",
       "    <tr style=\"text-align: right;\">\n",
       "      <th></th>\n",
       "      <th></th>\n",
       "      <th>quantidade</th>\n",
       "    </tr>\n",
       "    <tr>\n",
       "      <th>ano</th>\n",
       "      <th>mes</th>\n",
       "      <th></th>\n",
       "    </tr>\n",
       "  </thead>\n",
       "  <tbody>\n",
       "    <tr>\n",
       "      <th>2016</th>\n",
       "      <th>1</th>\n",
       "      <td>6</td>\n",
       "    </tr>\n",
       "    <tr>\n",
       "      <th>2017</th>\n",
       "      <th>2</th>\n",
       "      <td>3</td>\n",
       "    </tr>\n",
       "    <tr>\n",
       "      <th>2018</th>\n",
       "      <th>3</th>\n",
       "      <td>3</td>\n",
       "    </tr>\n",
       "    <tr>\n",
       "      <th>2019</th>\n",
       "      <th>4</th>\n",
       "      <td>3</td>\n",
       "    </tr>\n",
       "    <tr>\n",
       "      <th>2020</th>\n",
       "      <th>5</th>\n",
       "      <td>3</td>\n",
       "    </tr>\n",
       "    <tr>\n",
       "      <th rowspan=\"2\" valign=\"top\">2021</th>\n",
       "      <th>6</th>\n",
       "      <td>1</td>\n",
       "    </tr>\n",
       "    <tr>\n",
       "      <th>7</th>\n",
       "      <td>3</td>\n",
       "    </tr>\n",
       "    <tr>\n",
       "      <th>2022</th>\n",
       "      <th>7</th>\n",
       "      <td>3</td>\n",
       "    </tr>\n",
       "    <tr>\n",
       "      <th>2023</th>\n",
       "      <th>8</th>\n",
       "      <td>3</td>\n",
       "    </tr>\n",
       "    <tr>\n",
       "      <th>2024</th>\n",
       "      <th>9</th>\n",
       "      <td>3</td>\n",
       "    </tr>\n",
       "    <tr>\n",
       "      <th>2025</th>\n",
       "      <th>8</th>\n",
       "      <td>4</td>\n",
       "    </tr>\n",
       "  </tbody>\n",
       "</table>\n",
       "</div>"
      ],
      "text/plain": [
       "          quantidade\n",
       "ano  mes            \n",
       "2016 1             6\n",
       "2017 2             3\n",
       "2018 3             3\n",
       "2019 4             3\n",
       "2020 5             3\n",
       "2021 6             1\n",
       "     7             3\n",
       "2022 7             3\n",
       "2023 8             3\n",
       "2024 9             3\n",
       "2025 8             4"
      ]
     },
     "metadata": {},
     "output_type": "display_data"
    },
    {
     "name": "stdout",
     "output_type": "stream",
     "text": [
      "Vendas por ano:\n"
     ]
    },
    {
     "data": {
      "application/vnd.microsoft.datawrangler.viewer.v0+json": {
       "columns": [
        {
         "name": "ano",
         "rawType": "int32",
         "type": "integer"
        },
        {
         "name": "quantidade",
         "rawType": "int64",
         "type": "integer"
        }
       ],
       "ref": "a3be349d-7fcb-4e20-93e5-c3ce011f3556",
       "rows": [
        [
         "2016",
         "6"
        ],
        [
         "2017",
         "3"
        ],
        [
         "2018",
         "3"
        ],
        [
         "2019",
         "3"
        ],
        [
         "2020",
         "3"
        ],
        [
         "2021",
         "4"
        ],
        [
         "2022",
         "3"
        ],
        [
         "2023",
         "3"
        ],
        [
         "2024",
         "3"
        ],
        [
         "2025",
         "4"
        ]
       ],
       "shape": {
        "columns": 1,
        "rows": 10
       }
      },
      "text/html": [
       "<div>\n",
       "<style scoped>\n",
       "    .dataframe tbody tr th:only-of-type {\n",
       "        vertical-align: middle;\n",
       "    }\n",
       "\n",
       "    .dataframe tbody tr th {\n",
       "        vertical-align: top;\n",
       "    }\n",
       "\n",
       "    .dataframe thead th {\n",
       "        text-align: right;\n",
       "    }\n",
       "</style>\n",
       "<table border=\"1\" class=\"dataframe\">\n",
       "  <thead>\n",
       "    <tr style=\"text-align: right;\">\n",
       "      <th></th>\n",
       "      <th>quantidade</th>\n",
       "    </tr>\n",
       "    <tr>\n",
       "      <th>ano</th>\n",
       "      <th></th>\n",
       "    </tr>\n",
       "  </thead>\n",
       "  <tbody>\n",
       "    <tr>\n",
       "      <th>2016</th>\n",
       "      <td>6</td>\n",
       "    </tr>\n",
       "    <tr>\n",
       "      <th>2017</th>\n",
       "      <td>3</td>\n",
       "    </tr>\n",
       "    <tr>\n",
       "      <th>2018</th>\n",
       "      <td>3</td>\n",
       "    </tr>\n",
       "    <tr>\n",
       "      <th>2019</th>\n",
       "      <td>3</td>\n",
       "    </tr>\n",
       "    <tr>\n",
       "      <th>2020</th>\n",
       "      <td>3</td>\n",
       "    </tr>\n",
       "    <tr>\n",
       "      <th>2021</th>\n",
       "      <td>4</td>\n",
       "    </tr>\n",
       "    <tr>\n",
       "      <th>2022</th>\n",
       "      <td>3</td>\n",
       "    </tr>\n",
       "    <tr>\n",
       "      <th>2023</th>\n",
       "      <td>3</td>\n",
       "    </tr>\n",
       "    <tr>\n",
       "      <th>2024</th>\n",
       "      <td>3</td>\n",
       "    </tr>\n",
       "    <tr>\n",
       "      <th>2025</th>\n",
       "      <td>4</td>\n",
       "    </tr>\n",
       "  </tbody>\n",
       "</table>\n",
       "</div>"
      ],
      "text/plain": [
       "      quantidade\n",
       "ano             \n",
       "2016           6\n",
       "2017           3\n",
       "2018           3\n",
       "2019           3\n",
       "2020           3\n",
       "2021           4\n",
       "2022           3\n",
       "2023           3\n",
       "2024           3\n",
       "2025           4"
      ]
     },
     "metadata": {},
     "output_type": "display_data"
    },
    {
     "name": "stdout",
     "output_type": "stream",
     "text": [
      "Faturamento diário:\n"
     ]
    },
    {
     "data": {
      "application/vnd.microsoft.datawrangler.viewer.v0+json": {
       "columns": [
        {
         "name": "index",
         "rawType": "int64",
         "type": "integer"
        },
        {
         "name": "data",
         "rawType": "datetime64[ns]",
         "type": "datetime"
        },
        {
         "name": "receita",
         "rawType": "float64",
         "type": "float"
        }
       ],
       "ref": "8bbe3621-969a-4f32-99a0-eb438a43c891",
       "rows": [
        [
         "0",
         "2016-01-05 00:00:00",
         "40.0"
        ],
        [
         "1",
         "2016-01-06 00:00:00",
         "45.0"
        ],
        [
         "2",
         "2017-02-10 00:00:00",
         "50.0"
        ],
        [
         "3",
         "2017-02-11 00:00:00",
         "55.0"
        ],
        [
         "4",
         "2018-03-15 00:00:00",
         "60.0"
        ],
        [
         "5",
         "2018-03-16 00:00:00",
         "65.0"
        ],
        [
         "6",
         "2019-04-20 00:00:00",
         "70.0"
        ],
        [
         "7",
         "2019-04-21 00:00:00",
         "75.0"
        ],
        [
         "8",
         "2020-05-25 00:00:00",
         "80.0"
        ],
        [
         "9",
         "2020-05-26 00:00:00",
         "85.0"
        ],
        [
         "10",
         "2021-06-30 00:00:00",
         "90.0"
        ],
        [
         "11",
         "2021-07-01 00:00:00",
         "95.0"
        ],
        [
         "12",
         "2022-07-05 00:00:00",
         "100.0"
        ],
        [
         "13",
         "2022-07-06 00:00:00",
         "105.0"
        ],
        [
         "14",
         "2023-08-10 00:00:00",
         "110.0"
        ],
        [
         "15",
         "2023-08-11 00:00:00",
         "115.0"
        ],
        [
         "16",
         "2024-09-15 00:00:00",
         "120.0"
        ],
        [
         "17",
         "2024-09-16 00:00:00",
         "125.0"
        ],
        [
         "18",
         "2025-08-01 00:00:00",
         "130.0"
        ],
        [
         "19",
         "2025-08-02 00:00:00",
         "135.0"
        ]
       ],
       "shape": {
        "columns": 2,
        "rows": 20
       }
      },
      "text/html": [
       "<div>\n",
       "<style scoped>\n",
       "    .dataframe tbody tr th:only-of-type {\n",
       "        vertical-align: middle;\n",
       "    }\n",
       "\n",
       "    .dataframe tbody tr th {\n",
       "        vertical-align: top;\n",
       "    }\n",
       "\n",
       "    .dataframe thead th {\n",
       "        text-align: right;\n",
       "    }\n",
       "</style>\n",
       "<table border=\"1\" class=\"dataframe\">\n",
       "  <thead>\n",
       "    <tr style=\"text-align: right;\">\n",
       "      <th></th>\n",
       "      <th>data</th>\n",
       "      <th>receita</th>\n",
       "    </tr>\n",
       "  </thead>\n",
       "  <tbody>\n",
       "    <tr>\n",
       "      <th>0</th>\n",
       "      <td>2016-01-05</td>\n",
       "      <td>40.0</td>\n",
       "    </tr>\n",
       "    <tr>\n",
       "      <th>1</th>\n",
       "      <td>2016-01-06</td>\n",
       "      <td>45.0</td>\n",
       "    </tr>\n",
       "    <tr>\n",
       "      <th>2</th>\n",
       "      <td>2017-02-10</td>\n",
       "      <td>50.0</td>\n",
       "    </tr>\n",
       "    <tr>\n",
       "      <th>3</th>\n",
       "      <td>2017-02-11</td>\n",
       "      <td>55.0</td>\n",
       "    </tr>\n",
       "    <tr>\n",
       "      <th>4</th>\n",
       "      <td>2018-03-15</td>\n",
       "      <td>60.0</td>\n",
       "    </tr>\n",
       "    <tr>\n",
       "      <th>5</th>\n",
       "      <td>2018-03-16</td>\n",
       "      <td>65.0</td>\n",
       "    </tr>\n",
       "    <tr>\n",
       "      <th>6</th>\n",
       "      <td>2019-04-20</td>\n",
       "      <td>70.0</td>\n",
       "    </tr>\n",
       "    <tr>\n",
       "      <th>7</th>\n",
       "      <td>2019-04-21</td>\n",
       "      <td>75.0</td>\n",
       "    </tr>\n",
       "    <tr>\n",
       "      <th>8</th>\n",
       "      <td>2020-05-25</td>\n",
       "      <td>80.0</td>\n",
       "    </tr>\n",
       "    <tr>\n",
       "      <th>9</th>\n",
       "      <td>2020-05-26</td>\n",
       "      <td>85.0</td>\n",
       "    </tr>\n",
       "    <tr>\n",
       "      <th>10</th>\n",
       "      <td>2021-06-30</td>\n",
       "      <td>90.0</td>\n",
       "    </tr>\n",
       "    <tr>\n",
       "      <th>11</th>\n",
       "      <td>2021-07-01</td>\n",
       "      <td>95.0</td>\n",
       "    </tr>\n",
       "    <tr>\n",
       "      <th>12</th>\n",
       "      <td>2022-07-05</td>\n",
       "      <td>100.0</td>\n",
       "    </tr>\n",
       "    <tr>\n",
       "      <th>13</th>\n",
       "      <td>2022-07-06</td>\n",
       "      <td>105.0</td>\n",
       "    </tr>\n",
       "    <tr>\n",
       "      <th>14</th>\n",
       "      <td>2023-08-10</td>\n",
       "      <td>110.0</td>\n",
       "    </tr>\n",
       "    <tr>\n",
       "      <th>15</th>\n",
       "      <td>2023-08-11</td>\n",
       "      <td>115.0</td>\n",
       "    </tr>\n",
       "    <tr>\n",
       "      <th>16</th>\n",
       "      <td>2024-09-15</td>\n",
       "      <td>120.0</td>\n",
       "    </tr>\n",
       "    <tr>\n",
       "      <th>17</th>\n",
       "      <td>2024-09-16</td>\n",
       "      <td>125.0</td>\n",
       "    </tr>\n",
       "    <tr>\n",
       "      <th>18</th>\n",
       "      <td>2025-08-01</td>\n",
       "      <td>130.0</td>\n",
       "    </tr>\n",
       "    <tr>\n",
       "      <th>19</th>\n",
       "      <td>2025-08-02</td>\n",
       "      <td>135.0</td>\n",
       "    </tr>\n",
       "  </tbody>\n",
       "</table>\n",
       "</div>"
      ],
      "text/plain": [
       "         data  receita\n",
       "0  2016-01-05     40.0\n",
       "1  2016-01-06     45.0\n",
       "2  2017-02-10     50.0\n",
       "3  2017-02-11     55.0\n",
       "4  2018-03-15     60.0\n",
       "5  2018-03-16     65.0\n",
       "6  2019-04-20     70.0\n",
       "7  2019-04-21     75.0\n",
       "8  2020-05-25     80.0\n",
       "9  2020-05-26     85.0\n",
       "10 2021-06-30     90.0\n",
       "11 2021-07-01     95.0\n",
       "12 2022-07-05    100.0\n",
       "13 2022-07-06    105.0\n",
       "14 2023-08-10    110.0\n",
       "15 2023-08-11    115.0\n",
       "16 2024-09-15    120.0\n",
       "17 2024-09-16    125.0\n",
       "18 2025-08-01    130.0\n",
       "19 2025-08-02    135.0"
      ]
     },
     "metadata": {},
     "output_type": "display_data"
    },
    {
     "name": "stdout",
     "output_type": "stream",
     "text": [
      "Faturamento semanal:\n"
     ]
    },
    {
     "data": {
      "application/vnd.microsoft.datawrangler.viewer.v0+json": {
       "columns": [
        {
         "name": "index",
         "rawType": "int64",
         "type": "integer"
        },
        {
         "name": "ano",
         "rawType": "int64",
         "type": "integer"
        },
        {
         "name": "semana",
         "rawType": "int64",
         "type": "integer"
        },
        {
         "name": "receita",
         "rawType": "float64",
         "type": "float"
        }
       ],
       "ref": "7dbd133a-9696-4954-a98b-444f43daa1c8",
       "rows": [
        [
         "0",
         "2016",
         "1",
         "250.0"
        ],
        [
         "1",
         "2016",
         "2",
         "250.0"
        ],
        [
         "2",
         "2017",
         "1",
         "275.0"
        ],
        [
         "3",
         "2017",
         "2",
         "275.0"
        ],
        [
         "4",
         "2018",
         "1",
         "300.0"
        ],
        [
         "5",
         "2018",
         "2",
         "300.0"
        ],
        [
         "6",
         "2019",
         "1",
         "350.0"
        ],
        [
         "7",
         "2019",
         "2",
         "350.0"
        ],
        [
         "8",
         "2020",
         "1",
         "375.0"
        ],
        [
         "9",
         "2020",
         "2",
         "375.0"
        ],
        [
         "10",
         "2021",
         "1",
         "400.0"
        ],
        [
         "11",
         "2021",
         "2",
         "400.0"
        ],
        [
         "12",
         "2022",
         "1",
         "450.0"
        ],
        [
         "13",
         "2022",
         "2",
         "450.0"
        ],
        [
         "14",
         "2023",
         "1",
         "500.0"
        ],
        [
         "15",
         "2023",
         "2",
         "500.0"
        ],
        [
         "16",
         "2024",
         "1",
         "550.0"
        ],
        [
         "17",
         "2024",
         "2",
         "550.0"
        ],
        [
         "18",
         "2025",
         "1",
         "625.0"
        ],
        [
         "19",
         "2025",
         "2",
         "625.0"
        ]
       ],
       "shape": {
        "columns": 3,
        "rows": 20
       }
      },
      "text/html": [
       "<div>\n",
       "<style scoped>\n",
       "    .dataframe tbody tr th:only-of-type {\n",
       "        vertical-align: middle;\n",
       "    }\n",
       "\n",
       "    .dataframe tbody tr th {\n",
       "        vertical-align: top;\n",
       "    }\n",
       "\n",
       "    .dataframe thead th {\n",
       "        text-align: right;\n",
       "    }\n",
       "</style>\n",
       "<table border=\"1\" class=\"dataframe\">\n",
       "  <thead>\n",
       "    <tr style=\"text-align: right;\">\n",
       "      <th></th>\n",
       "      <th>ano</th>\n",
       "      <th>semana</th>\n",
       "      <th>receita</th>\n",
       "    </tr>\n",
       "  </thead>\n",
       "  <tbody>\n",
       "    <tr>\n",
       "      <th>0</th>\n",
       "      <td>2016</td>\n",
       "      <td>1</td>\n",
       "      <td>250.0</td>\n",
       "    </tr>\n",
       "    <tr>\n",
       "      <th>1</th>\n",
       "      <td>2016</td>\n",
       "      <td>2</td>\n",
       "      <td>250.0</td>\n",
       "    </tr>\n",
       "    <tr>\n",
       "      <th>2</th>\n",
       "      <td>2017</td>\n",
       "      <td>1</td>\n",
       "      <td>275.0</td>\n",
       "    </tr>\n",
       "    <tr>\n",
       "      <th>3</th>\n",
       "      <td>2017</td>\n",
       "      <td>2</td>\n",
       "      <td>275.0</td>\n",
       "    </tr>\n",
       "    <tr>\n",
       "      <th>4</th>\n",
       "      <td>2018</td>\n",
       "      <td>1</td>\n",
       "      <td>300.0</td>\n",
       "    </tr>\n",
       "    <tr>\n",
       "      <th>5</th>\n",
       "      <td>2018</td>\n",
       "      <td>2</td>\n",
       "      <td>300.0</td>\n",
       "    </tr>\n",
       "    <tr>\n",
       "      <th>6</th>\n",
       "      <td>2019</td>\n",
       "      <td>1</td>\n",
       "      <td>350.0</td>\n",
       "    </tr>\n",
       "    <tr>\n",
       "      <th>7</th>\n",
       "      <td>2019</td>\n",
       "      <td>2</td>\n",
       "      <td>350.0</td>\n",
       "    </tr>\n",
       "    <tr>\n",
       "      <th>8</th>\n",
       "      <td>2020</td>\n",
       "      <td>1</td>\n",
       "      <td>375.0</td>\n",
       "    </tr>\n",
       "    <tr>\n",
       "      <th>9</th>\n",
       "      <td>2020</td>\n",
       "      <td>2</td>\n",
       "      <td>375.0</td>\n",
       "    </tr>\n",
       "    <tr>\n",
       "      <th>10</th>\n",
       "      <td>2021</td>\n",
       "      <td>1</td>\n",
       "      <td>400.0</td>\n",
       "    </tr>\n",
       "    <tr>\n",
       "      <th>11</th>\n",
       "      <td>2021</td>\n",
       "      <td>2</td>\n",
       "      <td>400.0</td>\n",
       "    </tr>\n",
       "    <tr>\n",
       "      <th>12</th>\n",
       "      <td>2022</td>\n",
       "      <td>1</td>\n",
       "      <td>450.0</td>\n",
       "    </tr>\n",
       "    <tr>\n",
       "      <th>13</th>\n",
       "      <td>2022</td>\n",
       "      <td>2</td>\n",
       "      <td>450.0</td>\n",
       "    </tr>\n",
       "    <tr>\n",
       "      <th>14</th>\n",
       "      <td>2023</td>\n",
       "      <td>1</td>\n",
       "      <td>500.0</td>\n",
       "    </tr>\n",
       "    <tr>\n",
       "      <th>15</th>\n",
       "      <td>2023</td>\n",
       "      <td>2</td>\n",
       "      <td>500.0</td>\n",
       "    </tr>\n",
       "    <tr>\n",
       "      <th>16</th>\n",
       "      <td>2024</td>\n",
       "      <td>1</td>\n",
       "      <td>550.0</td>\n",
       "    </tr>\n",
       "    <tr>\n",
       "      <th>17</th>\n",
       "      <td>2024</td>\n",
       "      <td>2</td>\n",
       "      <td>550.0</td>\n",
       "    </tr>\n",
       "    <tr>\n",
       "      <th>18</th>\n",
       "      <td>2025</td>\n",
       "      <td>1</td>\n",
       "      <td>625.0</td>\n",
       "    </tr>\n",
       "    <tr>\n",
       "      <th>19</th>\n",
       "      <td>2025</td>\n",
       "      <td>2</td>\n",
       "      <td>625.0</td>\n",
       "    </tr>\n",
       "  </tbody>\n",
       "</table>\n",
       "</div>"
      ],
      "text/plain": [
       "     ano  semana  receita\n",
       "0   2016       1    250.0\n",
       "1   2016       2    250.0\n",
       "2   2017       1    275.0\n",
       "3   2017       2    275.0\n",
       "4   2018       1    300.0\n",
       "5   2018       2    300.0\n",
       "6   2019       1    350.0\n",
       "7   2019       2    350.0\n",
       "8   2020       1    375.0\n",
       "9   2020       2    375.0\n",
       "10  2021       1    400.0\n",
       "11  2021       2    400.0\n",
       "12  2022       1    450.0\n",
       "13  2022       2    450.0\n",
       "14  2023       1    500.0\n",
       "15  2023       2    500.0\n",
       "16  2024       1    550.0\n",
       "17  2024       2    550.0\n",
       "18  2025       1    625.0\n",
       "19  2025       2    625.0"
      ]
     },
     "metadata": {},
     "output_type": "display_data"
    },
    {
     "name": "stdout",
     "output_type": "stream",
     "text": [
      "Faturamento mensal:\n"
     ]
    },
    {
     "data": {
      "application/vnd.microsoft.datawrangler.viewer.v0+json": {
       "columns": [
        {
         "name": "index",
         "rawType": "int64",
         "type": "integer"
        },
        {
         "name": "ano",
         "rawType": "int64",
         "type": "integer"
        },
        {
         "name": "mes",
         "rawType": "int64",
         "type": "integer"
        },
        {
         "name": "receita",
         "rawType": "float64",
         "type": "float"
        }
       ],
       "ref": "f8313297-0ef5-484a-8043-81d2463341f6",
       "rows": [
        [
         "0",
         "2016",
         "1",
         "1000.0"
        ],
        [
         "1",
         "2016",
         "2",
         "1000.0"
        ],
        [
         "2",
         "2017",
         "1",
         "1100.0"
        ],
        [
         "3",
         "2017",
         "2",
         "1100.0"
        ],
        [
         "4",
         "2018",
         "1",
         "1200.0"
        ],
        [
         "5",
         "2018",
         "2",
         "1200.0"
        ],
        [
         "6",
         "2019",
         "1",
         "1400.0"
        ],
        [
         "7",
         "2019",
         "2",
         "1400.0"
        ],
        [
         "8",
         "2020",
         "1",
         "1500.0"
        ],
        [
         "9",
         "2020",
         "2",
         "1500.0"
        ],
        [
         "10",
         "2021",
         "1",
         "1600.0"
        ],
        [
         "11",
         "2021",
         "2",
         "1600.0"
        ],
        [
         "12",
         "2022",
         "1",
         "1800.0"
        ],
        [
         "13",
         "2022",
         "2",
         "1800.0"
        ],
        [
         "14",
         "2023",
         "1",
         "2000.0"
        ],
        [
         "15",
         "2023",
         "2",
         "2000.0"
        ],
        [
         "16",
         "2024",
         "1",
         "2200.0"
        ],
        [
         "17",
         "2024",
         "2",
         "2200.0"
        ],
        [
         "18",
         "2025",
         "1",
         "2500.0"
        ],
        [
         "19",
         "2025",
         "2",
         "2500.0"
        ]
       ],
       "shape": {
        "columns": 3,
        "rows": 20
       }
      },
      "text/html": [
       "<div>\n",
       "<style scoped>\n",
       "    .dataframe tbody tr th:only-of-type {\n",
       "        vertical-align: middle;\n",
       "    }\n",
       "\n",
       "    .dataframe tbody tr th {\n",
       "        vertical-align: top;\n",
       "    }\n",
       "\n",
       "    .dataframe thead th {\n",
       "        text-align: right;\n",
       "    }\n",
       "</style>\n",
       "<table border=\"1\" class=\"dataframe\">\n",
       "  <thead>\n",
       "    <tr style=\"text-align: right;\">\n",
       "      <th></th>\n",
       "      <th>ano</th>\n",
       "      <th>mes</th>\n",
       "      <th>receita</th>\n",
       "    </tr>\n",
       "  </thead>\n",
       "  <tbody>\n",
       "    <tr>\n",
       "      <th>0</th>\n",
       "      <td>2016</td>\n",
       "      <td>1</td>\n",
       "      <td>1000.0</td>\n",
       "    </tr>\n",
       "    <tr>\n",
       "      <th>1</th>\n",
       "      <td>2016</td>\n",
       "      <td>2</td>\n",
       "      <td>1000.0</td>\n",
       "    </tr>\n",
       "    <tr>\n",
       "      <th>2</th>\n",
       "      <td>2017</td>\n",
       "      <td>1</td>\n",
       "      <td>1100.0</td>\n",
       "    </tr>\n",
       "    <tr>\n",
       "      <th>3</th>\n",
       "      <td>2017</td>\n",
       "      <td>2</td>\n",
       "      <td>1100.0</td>\n",
       "    </tr>\n",
       "    <tr>\n",
       "      <th>4</th>\n",
       "      <td>2018</td>\n",
       "      <td>1</td>\n",
       "      <td>1200.0</td>\n",
       "    </tr>\n",
       "    <tr>\n",
       "      <th>5</th>\n",
       "      <td>2018</td>\n",
       "      <td>2</td>\n",
       "      <td>1200.0</td>\n",
       "    </tr>\n",
       "    <tr>\n",
       "      <th>6</th>\n",
       "      <td>2019</td>\n",
       "      <td>1</td>\n",
       "      <td>1400.0</td>\n",
       "    </tr>\n",
       "    <tr>\n",
       "      <th>7</th>\n",
       "      <td>2019</td>\n",
       "      <td>2</td>\n",
       "      <td>1400.0</td>\n",
       "    </tr>\n",
       "    <tr>\n",
       "      <th>8</th>\n",
       "      <td>2020</td>\n",
       "      <td>1</td>\n",
       "      <td>1500.0</td>\n",
       "    </tr>\n",
       "    <tr>\n",
       "      <th>9</th>\n",
       "      <td>2020</td>\n",
       "      <td>2</td>\n",
       "      <td>1500.0</td>\n",
       "    </tr>\n",
       "    <tr>\n",
       "      <th>10</th>\n",
       "      <td>2021</td>\n",
       "      <td>1</td>\n",
       "      <td>1600.0</td>\n",
       "    </tr>\n",
       "    <tr>\n",
       "      <th>11</th>\n",
       "      <td>2021</td>\n",
       "      <td>2</td>\n",
       "      <td>1600.0</td>\n",
       "    </tr>\n",
       "    <tr>\n",
       "      <th>12</th>\n",
       "      <td>2022</td>\n",
       "      <td>1</td>\n",
       "      <td>1800.0</td>\n",
       "    </tr>\n",
       "    <tr>\n",
       "      <th>13</th>\n",
       "      <td>2022</td>\n",
       "      <td>2</td>\n",
       "      <td>1800.0</td>\n",
       "    </tr>\n",
       "    <tr>\n",
       "      <th>14</th>\n",
       "      <td>2023</td>\n",
       "      <td>1</td>\n",
       "      <td>2000.0</td>\n",
       "    </tr>\n",
       "    <tr>\n",
       "      <th>15</th>\n",
       "      <td>2023</td>\n",
       "      <td>2</td>\n",
       "      <td>2000.0</td>\n",
       "    </tr>\n",
       "    <tr>\n",
       "      <th>16</th>\n",
       "      <td>2024</td>\n",
       "      <td>1</td>\n",
       "      <td>2200.0</td>\n",
       "    </tr>\n",
       "    <tr>\n",
       "      <th>17</th>\n",
       "      <td>2024</td>\n",
       "      <td>2</td>\n",
       "      <td>2200.0</td>\n",
       "    </tr>\n",
       "    <tr>\n",
       "      <th>18</th>\n",
       "      <td>2025</td>\n",
       "      <td>1</td>\n",
       "      <td>2500.0</td>\n",
       "    </tr>\n",
       "    <tr>\n",
       "      <th>19</th>\n",
       "      <td>2025</td>\n",
       "      <td>2</td>\n",
       "      <td>2500.0</td>\n",
       "    </tr>\n",
       "  </tbody>\n",
       "</table>\n",
       "</div>"
      ],
      "text/plain": [
       "     ano  mes  receita\n",
       "0   2016    1   1000.0\n",
       "1   2016    2   1000.0\n",
       "2   2017    1   1100.0\n",
       "3   2017    2   1100.0\n",
       "4   2018    1   1200.0\n",
       "5   2018    2   1200.0\n",
       "6   2019    1   1400.0\n",
       "7   2019    2   1400.0\n",
       "8   2020    1   1500.0\n",
       "9   2020    2   1500.0\n",
       "10  2021    1   1600.0\n",
       "11  2021    2   1600.0\n",
       "12  2022    1   1800.0\n",
       "13  2022    2   1800.0\n",
       "14  2023    1   2000.0\n",
       "15  2023    2   2000.0\n",
       "16  2024    1   2200.0\n",
       "17  2024    2   2200.0\n",
       "18  2025    1   2500.0\n",
       "19  2025    2   2500.0"
      ]
     },
     "metadata": {},
     "output_type": "display_data"
    },
    {
     "name": "stdout",
     "output_type": "stream",
     "text": [
      "Faturamento anual:\n"
     ]
    },
    {
     "data": {
      "application/vnd.microsoft.datawrangler.viewer.v0+json": {
       "columns": [
        {
         "name": "index",
         "rawType": "int64",
         "type": "integer"
        },
        {
         "name": "ano",
         "rawType": "int64",
         "type": "integer"
        },
        {
         "name": "receita",
         "rawType": "float64",
         "type": "float"
        }
       ],
       "ref": "4b6ab739-a375-40af-989d-23a785b716c7",
       "rows": [
        [
         "0",
         "2016",
         "12000.0"
        ],
        [
         "1",
         "2017",
         "13500.0"
        ],
        [
         "2",
         "2018",
         "15000.0"
        ],
        [
         "3",
         "2019",
         "17000.0"
        ],
        [
         "4",
         "2020",
         "18000.0"
        ],
        [
         "5",
         "2021",
         "20000.0"
        ],
        [
         "6",
         "2022",
         "22000.0"
        ],
        [
         "7",
         "2023",
         "25000.0"
        ],
        [
         "8",
         "2024",
         "27000.0"
        ],
        [
         "9",
         "2025",
         "30000.0"
        ]
       ],
       "shape": {
        "columns": 2,
        "rows": 10
       }
      },
      "text/html": [
       "<div>\n",
       "<style scoped>\n",
       "    .dataframe tbody tr th:only-of-type {\n",
       "        vertical-align: middle;\n",
       "    }\n",
       "\n",
       "    .dataframe tbody tr th {\n",
       "        vertical-align: top;\n",
       "    }\n",
       "\n",
       "    .dataframe thead th {\n",
       "        text-align: right;\n",
       "    }\n",
       "</style>\n",
       "<table border=\"1\" class=\"dataframe\">\n",
       "  <thead>\n",
       "    <tr style=\"text-align: right;\">\n",
       "      <th></th>\n",
       "      <th>ano</th>\n",
       "      <th>receita</th>\n",
       "    </tr>\n",
       "  </thead>\n",
       "  <tbody>\n",
       "    <tr>\n",
       "      <th>0</th>\n",
       "      <td>2016</td>\n",
       "      <td>12000.0</td>\n",
       "    </tr>\n",
       "    <tr>\n",
       "      <th>1</th>\n",
       "      <td>2017</td>\n",
       "      <td>13500.0</td>\n",
       "    </tr>\n",
       "    <tr>\n",
       "      <th>2</th>\n",
       "      <td>2018</td>\n",
       "      <td>15000.0</td>\n",
       "    </tr>\n",
       "    <tr>\n",
       "      <th>3</th>\n",
       "      <td>2019</td>\n",
       "      <td>17000.0</td>\n",
       "    </tr>\n",
       "    <tr>\n",
       "      <th>4</th>\n",
       "      <td>2020</td>\n",
       "      <td>18000.0</td>\n",
       "    </tr>\n",
       "    <tr>\n",
       "      <th>5</th>\n",
       "      <td>2021</td>\n",
       "      <td>20000.0</td>\n",
       "    </tr>\n",
       "    <tr>\n",
       "      <th>6</th>\n",
       "      <td>2022</td>\n",
       "      <td>22000.0</td>\n",
       "    </tr>\n",
       "    <tr>\n",
       "      <th>7</th>\n",
       "      <td>2023</td>\n",
       "      <td>25000.0</td>\n",
       "    </tr>\n",
       "    <tr>\n",
       "      <th>8</th>\n",
       "      <td>2024</td>\n",
       "      <td>27000.0</td>\n",
       "    </tr>\n",
       "    <tr>\n",
       "      <th>9</th>\n",
       "      <td>2025</td>\n",
       "      <td>30000.0</td>\n",
       "    </tr>\n",
       "  </tbody>\n",
       "</table>\n",
       "</div>"
      ],
      "text/plain": [
       "    ano  receita\n",
       "0  2016  12000.0\n",
       "1  2017  13500.0\n",
       "2  2018  15000.0\n",
       "3  2019  17000.0\n",
       "4  2020  18000.0\n",
       "5  2021  20000.0\n",
       "6  2022  22000.0\n",
       "7  2023  25000.0\n",
       "8  2024  27000.0\n",
       "9  2025  30000.0"
      ]
     },
     "metadata": {},
     "output_type": "display_data"
    },
    {
     "name": "stdout",
     "output_type": "stream",
     "text": [
      "Produto mais vendido: Hamburguer\n",
      "Lucro total por produto:\n"
     ]
    },
    {
     "data": {
      "application/vnd.microsoft.datawrangler.viewer.v0+json": {
       "columns": [
        {
         "name": "produto",
         "rawType": "object",
         "type": "string"
        },
        {
         "name": "lucro_total",
         "rawType": "float64",
         "type": "float"
        }
       ],
       "ref": "5ee8233b-32ba-4faa-beb6-fdc5d2988402",
       "rows": [
        [
         "Hamburguer",
         "48.0"
        ],
        [
         "Batata Frita",
         "30.0"
        ],
        [
         "Sanduíche",
         "28.0"
        ],
        [
         "Salada",
         "24.0"
        ],
        [
         "Pizza",
         "20.0"
        ],
        [
         "Torta",
         "14.0"
        ],
        [
         "Café",
         "12.0"
        ],
        [
         "Refrigerante",
         "10.5"
        ],
        [
         "Sorvete",
         "9.0"
        ],
        [
         "Suco",
         "7.0"
        ]
       ],
       "shape": {
        "columns": 1,
        "rows": 10
       }
      },
      "text/plain": [
       "produto\n",
       "Hamburguer      48.0\n",
       "Batata Frita    30.0\n",
       "Sanduíche       28.0\n",
       "Salada          24.0\n",
       "Pizza           20.0\n",
       "Torta           14.0\n",
       "Café            12.0\n",
       "Refrigerante    10.5\n",
       "Sorvete          9.0\n",
       "Suco             7.0\n",
       "Name: lucro_total, dtype: float64"
      ]
     },
     "metadata": {},
     "output_type": "display_data"
    },
    {
     "name": "stdout",
     "output_type": "stream",
     "text": [
      "Produto mais lucrativo: Hamburguer\n"
     ]
    }
   ],
   "source": [
    "# Módulo 2: Manipulando Dados Reais\n",
    "\n",
    "# Este notebook é parte do minicurso de Análise de Dados para Gestão e Negócios.\n",
    "# Objetivo: Carregar, explorar e limpar dados reais de vendas, clientes e produtos.\n",
    "# Responder perguntas de negócio usando Python e Pandas.\n",
    "\n",
    "# Importando bibliotecas\n",
    "import pandas as pd\n",
    "import numpy as np\n",
    "\n",
    "# 1. Carregando os dados\n",
    "clientes = pd.read_csv('../dados/clientes.csv')\n",
    "vendas = pd.read_csv('../dados/vendas.csv')\n",
    "produtos = pd.read_csv('../dados/produtos.csv')\n",
    "despesas = pd.read_csv('../dados/despesas.csv')\n",
    "faturamento_diario = pd.read_csv('../dados/faturamento_diario.csv')\n",
    "faturamento_semanal = pd.read_csv('../dados/faturamento_semanal.csv')\n",
    "faturamento_mensal = pd.read_csv('../dados/faturamento_mensal.csv')\n",
    "faturamento_anual = pd.read_csv('../dados/faturamento_anual.csv')\n",
    "\n",
    "# 2. Visualizando os dados\n",
    "print('Clientes:')\n",
    "display(clientes.head())\n",
    "print('Vendas:')\n",
    "display(vendas.head())\n",
    "print('Produtos:')\n",
    "display(produtos.head())\n",
    "print('Despesas:')\n",
    "display(despesas.head())\n",
    "print('Faturamento Diário:')\n",
    "display(faturamento_diario.head())\n",
    "\n",
    "# 3. Exploração de vendas por período\n",
    "# Convertendo a coluna de data para datetime\n",
    "vendas['data'] = pd.to_datetime(vendas['data'])\n",
    "faturamento_diario['data'] = pd.to_datetime(faturamento_diario['data'])\n",
    "\n",
    "# Total de vendas por dia\n",
    "vendas_por_dia = vendas.groupby('data').agg({'quantidade':'sum', 'preco_unitario':'sum'})\n",
    "print('Vendas por dia:')\n",
    "display(vendas_por_dia)\n",
    "\n",
    "# Total de vendas por semana\n",
    "vendas['semana'] = vendas['data'].dt.isocalendar().week\n",
    "vendas['ano'] = vendas['data'].dt.year\n",
    "vendas_por_semana = vendas.groupby(['ano','semana']).agg({'quantidade':'sum'})\n",
    "print('Vendas por semana:')\n",
    "display(vendas_por_semana)\n",
    "\n",
    "# Total de vendas por mês\n",
    "vendas['mes'] = vendas['data'].dt.month\n",
    "vendas_por_mes = vendas.groupby(['ano','mes']).agg({'quantidade':'sum'})\n",
    "print('Vendas por mês:')\n",
    "display(vendas_por_mes)\n",
    "\n",
    "# Total de vendas por ano\n",
    "vendas_por_ano = vendas.groupby('ano').agg({'quantidade':'sum'})\n",
    "print('Vendas por ano:')\n",
    "display(vendas_por_ano)\n",
    "\n",
    "# 4. Faturamento e produtos mais vendidos\n",
    "# Faturamento total por período (usando planilhas prontas)\n",
    "print('Faturamento diário:')\n",
    "display(faturamento_diario)\n",
    "print('Faturamento semanal:')\n",
    "display(faturamento_semanal)\n",
    "print('Faturamento mensal:')\n",
    "display(faturamento_mensal)\n",
    "print('Faturamento anual:')\n",
    "display(faturamento_anual)\n",
    "\n",
    "# Produto mais vendido\n",
    "mais_vendido = vendas['produto'].value_counts().idxmax()\n",
    "print(f'Produto mais vendido: {mais_vendido}')\n",
    "\n",
    "# Produto mais lucrativo\n",
    "vendas_prod = vendas.merge(produtos, on='produto')\n",
    "vendas_prod['lucro_unitario'] = vendas_prod['preco_unitario'] - vendas_prod['custo_unitario']\n",
    "vendas_prod['lucro_total'] = vendas_prod['lucro_unitario'] * vendas_prod['quantidade']\n",
    "lucro_por_produto = vendas_prod.groupby('produto')['lucro_total'].sum().sort_values(ascending=False)\n",
    "print('Lucro total por produto:')\n",
    "display(lucro_por_produto)\n",
    "print(f'Produto mais lucrativo: {lucro_por_produto.idxmax()}')\n",
    "\n",
    "# 5. Exercícios extras\n",
    "# - Descubra qual cliente mais comprou na lanchonete.\n",
    "# - Crie um gráfico de pizza mostrando a participação de cada produto nas vendas totais.\n",
    "# - Tente importar outro arquivo `.csv` e analisar seus dados."
   ]
  }
 ],
 "metadata": {
  "kernelspec": {
   "display_name": "base",
   "language": "python",
   "name": "python3"
  },
  "language_info": {
   "codemirror_mode": {
    "name": "ipython",
    "version": 3
   },
   "file_extension": ".py",
   "mimetype": "text/x-python",
   "name": "python",
   "nbconvert_exporter": "python",
   "pygments_lexer": "ipython3",
   "version": "3.13.5"
  }
 },
 "nbformat": 4,
 "nbformat_minor": 5
}
